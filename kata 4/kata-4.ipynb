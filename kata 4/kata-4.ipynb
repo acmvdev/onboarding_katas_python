{
 "cells": [
  {
   "cell_type": "markdown",
   "metadata": {},
   "source": [
    "# Kata 4"
   ]
  },
  {
   "cell_type": "markdown",
   "metadata": {},
   "source": [
    "## Ejercicio 1: Transformar cadenas"
   ]
  },
  {
   "cell_type": "code",
   "execution_count": 37,
   "metadata": {},
   "outputs": [
    {
     "name": "stdout",
     "output_type": "stream",
     "text": [
      "['interesting facts about the moon', \" the moon is earth's only satellite\", ' there are several interesting facts about the moon and how it affects life here on earth', ' \\non average, the moon moves 4cm away from the earth every year', ' this yearly drift is not significant enough to cause immediate effects on earth', ' the highest daylight temperature of the moon is 127 c', '']\n",
      " \n",
      "on average, the moon moves 4cm away from the earth every year\n",
      " the highest daylight temperature of the moon is 127 c\n",
      " The highest daylight temperature of the Moon is 127 Celsius\n"
     ]
    }
   ],
   "source": [
    "text = \"\"\"Interesting facts about the Moon. The Moon is Earth's only satellite. There are several interesting facts about the Moon and how it affects life here on Earth. \n",
    "On average, the Moon moves 4cm away from the Earth every year. This yearly drift is not significant enough to cause immediate effects on Earth. The highest daylight temperature of the Moon is 127 C.\"\"\"\n",
    "\n",
    "#Primero, divide el texto en cada oración para trabajar con su contenido\n",
    "# Añade el código necesario\n",
    "\n",
    "oraciones=text.lower().split(\".\")\n",
    "print(oraciones)\n",
    "\n",
    "# Define las palabras pista: average, temperature y distance suenan bien\n",
    "\n",
    "average = \"average\"\n",
    "temperature = \"temp\"\n",
    "distance = \"distance\"\n",
    "\n",
    "\n",
    "\n",
    "#Crear un bucle para imprimir solo datos sobre la Luna que estén relacionados con las palabras clave definidas anteriormente:\n",
    "\n",
    "# Ciclo for para recorrer la cadena\n",
    "\n",
    "for item in oraciones:\n",
    "    if (item.find(average) >= 0):\n",
    "        print(item)\n",
    "    if (item.find(temperature) >= 0):\n",
    "        print(item)\n",
    "    if (item.find(distance) >= 0):\n",
    "        print(distance)       \n",
    "\n",
    "\n",
    "# Ciclo para cambiar C a Celsius\n",
    "\n",
    "for item in text.split(\".\"):\n",
    "    if(item.find(\"C\") >= 0):\n",
    "        print(item.replace(\"C\",\"Celsius\")) \n",
    "        "
   ]
  },
  {
   "cell_type": "markdown",
   "metadata": {},
   "source": [
    "## Ejercicio 2: Formateando Cadenas"
   ]
  },
  {
   "cell_type": "code",
   "execution_count": 40,
   "metadata": {},
   "outputs": [
    {
     "name": "stdout",
     "output_type": "stream",
     "text": [
      "Gravity Facts about Moon-------------------------------------------------------------------------------\n",
      "... Planet Name: Earth\n",
      "... Gravity on Ganymede: 1.6199999999999999 m/s\n",
      "\"Gravity Facts about Ganímedes\n",
      "...-------------------------------------------------------------------------------\n",
      "... Planet Name: Marte \n",
      "... Gravity on Ganymede: 1.4300000000000002 m/s\n"
     ]
    }
   ],
   "source": [
    "# Datos con los que vas a trabajar\n",
    "name = \"Moon\"\n",
    "gravity = 0.00162 # in kms\n",
    "planet = \"Earth\"\n",
    "\n",
    "#Creamos titulo\n",
    "\n",
    "titulo = \"Gravity Facts about %s\"%name\n",
    "# Creamos la plantilla\n",
    "\n",
    "plantilla=\"\"\"-------------------------------------------------------------------------------\n",
    "... Planet Name: %s\n",
    "... Gravity on Ganymede: %s m/s\"\"\"%(planet,str(gravity*1000))\n",
    "\n",
    "\n",
    "\n",
    "# Unión de ambas cadenas\n",
    "#print(titulo)\n",
    "#print(plantilla)\n",
    "\n",
    "print(titulo+plantilla)\n",
    "\n",
    "\n",
    "#Datos muestra 2\n",
    "\n",
    "planeta = 'Marte '\n",
    "gravedad  = 0.00143\n",
    "nombre = 'Ganímedes'\n",
    "\n",
    "nueva_plantilla = \"\"\"\"Gravity Facts about {}\n",
    "...-------------------------------------------------------------------------------\n",
    "... Planet Name: {}\n",
    "... Gravity on Ganymede: {} m/s\"\"\"\n",
    "\n",
    "print(nueva_plantilla.format(nombre,planeta,str(gravedad*1000)))\n",
    "\n"
   ]
  }
 ],
 "metadata": {
  "interpreter": {
   "hash": "b89b5cfaba6639976dc87ff2fec6d58faec662063367e2c229c520fe71072417"
  },
  "kernelspec": {
   "display_name": "Python 3.10.2 64-bit",
   "language": "python",
   "name": "python3"
  },
  "language_info": {
   "codemirror_mode": {
    "name": "ipython",
    "version": 3
   },
   "file_extension": ".py",
   "mimetype": "text/x-python",
   "name": "python",
   "nbconvert_exporter": "python",
   "pygments_lexer": "ipython3",
   "version": "3.10.2"
  },
  "orig_nbformat": 4
 },
 "nbformat": 4,
 "nbformat_minor": 2
}
