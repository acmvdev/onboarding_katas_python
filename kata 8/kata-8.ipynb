{
 "cells": [
  {
   "cell_type": "markdown",
   "metadata": {},
   "source": [
    "# Kata 8\n",
    "\n",
    "## Ejercicio 1: Creación de diccionarios de Python"
   ]
  },
  {
   "cell_type": "code",
   "execution_count": 5,
   "metadata": {},
   "outputs": [
    {
     "name": "stdout",
     "output_type": "stream",
     "text": [
      "Marte tiene 2 lunas \n",
      "Marte tiene una circunferencia polar de 6752\n"
     ]
    }
   ],
   "source": [
    "# Crea un diccionario llamado planet con los datos propuestos\n",
    "\n",
    "planet = {\n",
    "    \"name\": \"Marte\",\n",
    "    \"moons\": 2\n",
    "}\n",
    "\n",
    "\n",
    "# Muestra el nombre del planeta y el número de lunas que tiene\n",
    "print(\"%s tiene %s lunas \"%(planet[\"name\"],planet.get(\"moons\")))\n",
    "\n",
    "\n",
    "# Agrega la clave circunferencia con los datos proporcionados previamente\n",
    "\n",
    "planet[\"circunferencia(km)\"]={\n",
    "    \"polar\": 6752,\n",
    "    \"equatorial\": 6792}\n",
    "\n",
    "\n",
    "# Imprime el nombre del planeta con su circunferencia polar.\n",
    "\n",
    "\n",
    "print(f\"{planet['name']} tiene una circunferencia polar de {planet['circunferencia(km)']['polar']}\")    "
   ]
  },
  {
   "cell_type": "markdown",
   "metadata": {},
   "source": [
    "## Ejercicio 2: Programación dinámica con diccionarios"
   ]
  },
  {
   "cell_type": "code",
   "execution_count": 8,
   "metadata": {},
   "outputs": [
    {
     "name": "stdout",
     "output_type": "stream",
     "text": [
      "numero total de lunas 214\n",
      "numero total de planetas 12\n",
      "promedio numero total de lunas por planetas 17.833333333333332\n"
     ]
    }
   ],
   "source": [
    "# Planets and moons\n",
    "\n",
    "planet_moons = {\n",
    "    'mercury': 0,\n",
    "    'venus': 0,\n",
    "    'earth': 1,\n",
    "    'mars': 2,\n",
    "    'jupiter': 79,\n",
    "    'saturn': 82,\n",
    "    'uranus': 27,\n",
    "    'neptune': 14,\n",
    "    'pluto': 5,\n",
    "    'haumea': 2,\n",
    "    'makemake': 1,\n",
    "    'eris': 1\n",
    "}\n",
    "\n",
    "# Añade el código para determinar el número de lunas.\n",
    "\n",
    "moons=planet_moons.values()\n",
    "num_total_lunas=0\n",
    "\n",
    "for moon in moons:\n",
    "    num_total_lunas+=moon\n",
    "\n",
    "print(\"numero total de lunas \"+str(num_total_lunas))\n",
    "\n",
    "# Agrega el código para contar el número de lunas. \n",
    "\n",
    "planets = planet_moons.keys()\n",
    "num_total_planetas=len(planets)\n",
    "\n",
    "print(\"numero total de planetas \"+str(num_total_planetas))\n",
    "\n",
    "promedio_lunas = num_total_lunas / num_total_planetas\n",
    "\n",
    "print(\"promedio numero total de lunas por planetas \"+str(promedio_lunas))"
   ]
  }
 ],
 "metadata": {
  "interpreter": {
   "hash": "b89b5cfaba6639976dc87ff2fec6d58faec662063367e2c229c520fe71072417"
  },
  "kernelspec": {
   "display_name": "Python 3.10.2 64-bit",
   "language": "python",
   "name": "python3"
  },
  "language_info": {
   "codemirror_mode": {
    "name": "ipython",
    "version": 3
   },
   "file_extension": ".py",
   "mimetype": "text/x-python",
   "name": "python",
   "nbconvert_exporter": "python",
   "pygments_lexer": "ipython3",
   "version": "3.10.2"
  },
  "orig_nbformat": 4
 },
 "nbformat": 4,
 "nbformat_minor": 2
}
