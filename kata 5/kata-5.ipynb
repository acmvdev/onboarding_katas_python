{
 "cells": [
  {
   "cell_type": "markdown",
   "metadata": {},
   "source": [
    "# Kata 5"
   ]
  },
  {
   "cell_type": "markdown",
   "metadata": {},
   "source": [
    "## Ejercicio1 - Utilizar operadores aritméticos"
   ]
  },
  {
   "cell_type": "code",
   "execution_count": 1,
   "metadata": {},
   "outputs": [
    {
     "name": "stdout",
     "output_type": "stream",
     "text": [
      "Distancia entre planetas en kilometros 628949330\n",
      "Distancia entre planetas en millas 390577533.93\n"
     ]
    }
   ],
   "source": [
    "# Crear variables para almacenar las dos distancias\n",
    "# ¡Asegúrate de quitar las comas!\n",
    "\n",
    "tierra = 149597870\n",
    "jupiter = 778547200 \n",
    "\n",
    "# Calcular la distancia entre planetas\n",
    "\n",
    "distancia_entre_planetas = tierra - jupiter\n",
    "distancia_en_millas = distancia_entre_planetas * 0.621\n",
    "\n",
    "print(\"Distancia entre planetas en kilometros \"+str(abs(distancia_entre_planetas)))\n",
    "print(\"Distancia entre planetas en millas \"+str(abs(distancia_en_millas)))\n",
    "\n",
    "\n"
   ]
  },
  {
   "cell_type": "markdown",
   "metadata": {},
   "source": [
    "## Ejercicio 2: convierte cadenas en números y usa valores absolutos"
   ]
  },
  {
   "cell_type": "code",
   "execution_count": 4,
   "metadata": {},
   "outputs": [
    {
     "name": "stdout",
     "output_type": "stream",
     "text": [
      "Distancia en Km 50300000\n",
      "Distancia en Millas 31236300.0\n"
     ]
    }
   ],
   "source": [
    "# Almacenar las entradas del usuario\n",
    "str_planeta1 = input(\"Escribe la distancia del planeta 1\")\n",
    "str_planeta2 = input(\"Escribe la distancia del planeta 2\")\n",
    "\n",
    "\n",
    "# Convierte las cadenas de ambos planetas a números enteros\n",
    "\n",
    "num_planeta1 = int(str_planeta1)\n",
    "num_planeta2 = int(str_planeta2)\n",
    "\n",
    "distancia = abs(num_planeta1 - num_planeta2)\n",
    "\n",
    "print(\"Distancia en Km \"+str(distancia))\n",
    "print(\"Distancia en Millas \"+str(distancia*0.621))"
   ]
  }
 ],
 "metadata": {
  "interpreter": {
   "hash": "b89b5cfaba6639976dc87ff2fec6d58faec662063367e2c229c520fe71072417"
  },
  "kernelspec": {
   "display_name": "Python 3.10.2 64-bit",
   "language": "python",
   "name": "python3"
  },
  "language_info": {
   "codemirror_mode": {
    "name": "ipython",
    "version": 3
   },
   "file_extension": ".py",
   "mimetype": "text/x-python",
   "name": "python",
   "nbconvert_exporter": "python",
   "pygments_lexer": "ipython3",
   "version": "3.10.2"
  },
  "orig_nbformat": 4
 },
 "nbformat": 4,
 "nbformat_minor": 2
}
