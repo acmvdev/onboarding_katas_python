{
 "cells": [
  {
   "cell_type": "markdown",
   "metadata": {},
   "source": [
    "# Kata 9\n",
    "\n",
    "## Ejercicio: Uso de funciones en Python"
   ]
  },
  {
   "cell_type": "code",
   "execution_count": 7,
   "metadata": {},
   "outputs": [
    {
     "name": "stdout",
     "output_type": "stream",
     "text": [
      "3.0\n",
      "4.333333333333333\n"
     ]
    }
   ],
   "source": [
    "# Función para leer 3 tanques de combustible y muestre el promedio\n",
    "\n",
    "def promedio_tanques_combustible (tanque1,tanque2,tanque3):\n",
    "   return (tanque1+tanque2+tanque3)/3\n",
    "\n",
    "\n",
    "# Llamamos a la función que genera el reporte print(funcion(tanque1, tanque2, tanque3))\n",
    "print(promedio_tanques_combustible(3,2,4))\n",
    "\n",
    "\n",
    "# Función promedio\n",
    "def promedio (*args):\n",
    "    return sum(args)/len(args)\n",
    "\n",
    "\n",
    "# Actualiza la función\n",
    "def prom_tanques(t1,t2,t3):\n",
    "    return promedio(t1,t2,t3)\n",
    "\n",
    "print(prom_tanques(4,3,6))\n"
   ]
  },
  {
   "cell_type": "markdown",
   "metadata": {},
   "source": [
    "## Ejercicio 2: Trabajo con argumentos de palabra clave "
   ]
  },
  {
   "cell_type": "code",
   "execution_count": 28,
   "metadata": {},
   "outputs": [
    {
     "name": "stdout",
     "output_type": "stream",
     "text": [
      "hora de prelanzamiento: 12 tiempo de vuelo:  60 destino: Marte tanque externo: 4000 tanque interno: 3000\n",
      "\n",
      "    hora de prelanzamiento: 9 \n",
      "    destino: Marte\n",
      "        tanque_1 : 30000 \n",
      "        tanque_2 : 4000 \n"
     ]
    }
   ],
   "source": [
    "# Función con un informe preciso de la misión. Considera hora de prelanzamiento, tiempo de vuelo, destino, tanque externo y tanque interno\n",
    "\n",
    "\n",
    "\n",
    "# Escribe tu nueva función de reporte considerando lo anterior\n",
    "\n",
    "def informe_mision (hora_prelanzanmiento, tiempo_vuelo,destino,tanque_externo,tanque_interno):\n",
    "\n",
    "    return f\"hora de prelanzamiento: {hora_prelanzanmiento} tiempo de vuelo:  {tiempo_vuelo} destino: {destino} tanque externo: {tanque_externo} tanque interno: {tanque_interno}\"\n",
    "\n",
    "print(informe_mision(12,60,\"Marte\",4000, 3000))\n",
    "\n",
    "# Escribe tu nueva función\n",
    "\n",
    "def informe_mision_mejorada (destino,*tiempos,**tanques):\n",
    "    reporte_final = f\"\"\"\n",
    "    hora de prelanzamiento: {sum(tiempos)} \n",
    "    destino: {destino}\"\"\"\n",
    "    \n",
    "    info=\"\"\n",
    "    \n",
    "    for tanque,galon in tanques.items():\n",
    "        info += f\"\"\"\n",
    "        {tanque} : {galon} \"\"\"\n",
    "\n",
    "    return reporte_final+info\n",
    "\n",
    "print(informe_mision_mejorada(\"Marte\",2,4,3,tanque_1=30000,tanque_2= 4000))"
   ]
  }
 ],
 "metadata": {
  "interpreter": {
   "hash": "b89b5cfaba6639976dc87ff2fec6d58faec662063367e2c229c520fe71072417"
  },
  "kernelspec": {
   "display_name": "Python 3.10.2 64-bit",
   "language": "python",
   "name": "python3"
  },
  "language_info": {
   "codemirror_mode": {
    "name": "ipython",
    "version": 3
   },
   "file_extension": ".py",
   "mimetype": "text/x-python",
   "name": "python",
   "nbconvert_exporter": "python",
   "pygments_lexer": "ipython3",
   "version": "3.10.2"
  },
  "orig_nbformat": 4
 },
 "nbformat": 4,
 "nbformat_minor": 2
}
