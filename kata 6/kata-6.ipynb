{
 "cells": [
  {
   "cell_type": "markdown",
   "metadata": {},
   "source": [
    "# Kata 6"
   ]
  },
  {
   "cell_type": "markdown",
   "metadata": {},
   "source": [
    "## Ejercicio1: Crear y usar listas de Python"
   ]
  },
  {
   "cell_type": "code",
   "execution_count": 13,
   "metadata": {},
   "outputs": [
    {
     "name": "stdout",
     "output_type": "stream",
     "text": [
      "['Mercury', 'Venus', 'Earth', 'Mars', 'Jupiter', 'Saturn', 'Uranus', 'Neptune']\n",
      "There are 8 planets\n",
      "pluto\n"
     ]
    }
   ],
   "source": [
    "# Creamos la lista planets y la mostramos\n",
    "planets = ['Mercury', 'Venus', 'Earth', 'Mars', 'Jupiter', 'Saturn', 'Uranus', 'Neptune']\n",
    "\n",
    "print(planets)\n",
    "\n",
    "\n",
    "# Agregamos a plutón y mostramos el último elemento\n",
    "planets.append(\"pluto\")\n",
    "\n",
    "print(planets[-1])"
   ]
  },
  {
   "cell_type": "markdown",
   "metadata": {},
   "source": [
    "## Ejercicio 2: Trabajando con datos de una lista"
   ]
  },
  {
   "cell_type": "code",
   "execution_count": 12,
   "metadata": {},
   "outputs": [
    {
     "name": "stdout",
     "output_type": "stream",
     "text": [
      "3\n",
      "['Mercury', 'Venus', 'Earth']\n",
      "['Mars', 'Jupiter', 'Saturn', 'Uranus', 'Neptune', 'pluto']\n"
     ]
    }
   ],
   "source": [
    "# Solicitamos el nombre de un planeta \n",
    "planeta = input(\"Ingresa el nombre del planeta empezando la primera letra con mayuscula\")\n",
    "\n",
    "indice=planets.index(planeta)\n",
    "\n",
    "print(indice)\n",
    "\n",
    "# Busca el planeta en la lista\n",
    "\n",
    "planetas_cercanos_sol = planets[0:indice]\n",
    "print(planetas_cercanos_sol)\n",
    "\n",
    "# Muestra los planetas más lejanos al sol\n",
    "\n",
    "planetas_lejanos_sol = planets[indice+1:]\n",
    "\n",
    "print(planetas_lejanos_sol)\n",
    "\n"
   ]
  }
 ],
 "metadata": {
  "interpreter": {
   "hash": "b89b5cfaba6639976dc87ff2fec6d58faec662063367e2c229c520fe71072417"
  },
  "kernelspec": {
   "display_name": "Python 3.10.2 64-bit",
   "language": "python",
   "name": "python3"
  },
  "language_info": {
   "codemirror_mode": {
    "name": "ipython",
    "version": 3
   },
   "file_extension": ".py",
   "mimetype": "text/x-python",
   "name": "python",
   "nbconvert_exporter": "python",
   "pygments_lexer": "ipython3",
   "version": "3.10.2"
  },
  "orig_nbformat": 4
 },
 "nbformat": 4,
 "nbformat_minor": 2
}
